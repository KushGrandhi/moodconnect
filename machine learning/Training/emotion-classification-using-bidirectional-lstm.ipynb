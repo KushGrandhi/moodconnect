{
 "cells": [
  {
   "cell_type": "markdown",
   "metadata": {
    "id": "SfwEUAWA3HAb"
   },
   "source": [
    "## Import Necessary Libraries"
   ]
  },
  {
   "cell_type": "code",
   "execution_count": 26,
   "metadata": {
    "id": "G7rHKL0KNteY"
   },
   "outputs": [],
   "source": [
    "import numpy as np\n",
    "import keras\n",
    "from  keras.preprocessing.text import Tokenizer\n",
    "from keras.preprocessing.sequence import pad_sequences\n",
    "import os\n",
    "import pandas as pd\n",
    "from keras.utils import to_categorical\n",
    "import matplotlib.pyplot as plt\n",
    "from sklearn.metrics import classification_report\n",
    "import scikitplot\n",
    "from scikitplot.metrics import plot_confusion_matrix\n",
    "from nltk.stem.lancaster import LancasterStemmer\n",
    "stemmer = LancasterStemmer()\n",
    "import nltk"
   ]
  },
  {
   "cell_type": "markdown",
   "metadata": {
    "id": "r1dtvdVm3Wqq"
   },
   "source": [
    "# Create a Dataframe for reading and analysing the text files easily"
   ]
  },
  {
   "cell_type": "code",
   "execution_count": 27,
   "metadata": {
    "id": "uVI0V45VPqkH"
   },
   "outputs": [],
   "source": [
    "df_train = pd.read_csv('data/train.txt', header =None, names = ['Input','Sentiment'], encoding='utf-8')\n",
    "df_test = pd.read_csv('data/test.txt', header = None, names = ['Input','Sentiment'],encoding='utf-8')\n",
    "df_val=pd.read_csv('data/val.txt',header=None,names=['Input','Sentiment'],encoding='utf-8')"
   ]
  },
  {
   "cell_type": "code",
   "execution_count": 28,
   "metadata": {
    "id": "t5UXwqnoOkGV",
    "outputId": "2714606a-f695-45ff-c0d9-1d7234d37a6f"
   },
   "outputs": [
    {
     "data": {
      "text/plain": [
       "joy         5362\n",
       "sadness     4666\n",
       "anger       2159\n",
       "fear        1937\n",
       "love        1304\n",
       "surprise     572\n",
       "Name: Sentiment, dtype: int64"
      ]
     },
     "execution_count": 28,
     "metadata": {},
     "output_type": "execute_result"
    }
   ],
   "source": [
    "df_train.Sentiment.value_counts()"
   ]
  },
  {
   "cell_type": "markdown",
   "metadata": {
    "id": "weLVgoak3lR0"
   },
   "source": [
    "## Reading the Train and Validation Data"
   ]
  },
  {
   "cell_type": "code",
   "execution_count": 29,
   "metadata": {
    "id": "8jfpnq0qPEUF"
   },
   "outputs": [],
   "source": [
    "X=df_train['Input']\n",
    "X = [stemmer.stem(word.lower()) for word in X]"
   ]
  },
  {
   "cell_type": "code",
   "execution_count": 30,
   "metadata": {
    "id": "YsdBhABuRkc2"
   },
   "outputs": [],
   "source": [
    "lst=[]\n",
    "for i in X:\n",
    "    lst.append(len(i))\n"
   ]
  },
  {
   "cell_type": "code",
   "execution_count": 31,
   "metadata": {
    "id": "Lf_wMk5wR7Wd",
    "outputId": "0f7f1b70-bd55-428f-f798-89f8c2f998c0"
   },
   "outputs": [
    {
     "data": {
      "text/html": [
       "<div>\n",
       "<style scoped>\n",
       "    .dataframe tbody tr th:only-of-type {\n",
       "        vertical-align: middle;\n",
       "    }\n",
       "\n",
       "    .dataframe tbody tr th {\n",
       "        vertical-align: top;\n",
       "    }\n",
       "\n",
       "    .dataframe thead th {\n",
       "        text-align: right;\n",
       "    }\n",
       "</style>\n",
       "<table border=\"1\" class=\"dataframe\">\n",
       "  <thead>\n",
       "    <tr style=\"text-align: right;\">\n",
       "      <th></th>\n",
       "      <th>0</th>\n",
       "    </tr>\n",
       "  </thead>\n",
       "  <tbody>\n",
       "    <tr>\n",
       "      <th>count</th>\n",
       "      <td>16000.000000</td>\n",
       "    </tr>\n",
       "    <tr>\n",
       "      <th>mean</th>\n",
       "      <td>96.837937</td>\n",
       "    </tr>\n",
       "    <tr>\n",
       "      <th>std</th>\n",
       "      <td>55.902815</td>\n",
       "    </tr>\n",
       "    <tr>\n",
       "      <th>min</th>\n",
       "      <td>7.000000</td>\n",
       "    </tr>\n",
       "    <tr>\n",
       "      <th>25%</th>\n",
       "      <td>53.000000</td>\n",
       "    </tr>\n",
       "    <tr>\n",
       "      <th>50%</th>\n",
       "      <td>86.000000</td>\n",
       "    </tr>\n",
       "    <tr>\n",
       "      <th>75%</th>\n",
       "      <td>129.000000</td>\n",
       "    </tr>\n",
       "    <tr>\n",
       "      <th>max</th>\n",
       "      <td>300.000000</td>\n",
       "    </tr>\n",
       "  </tbody>\n",
       "</table>\n",
       "</div>"
      ],
      "text/plain": [
       "                  0\n",
       "count  16000.000000\n",
       "mean      96.837937\n",
       "std       55.902815\n",
       "min        7.000000\n",
       "25%       53.000000\n",
       "50%       86.000000\n",
       "75%      129.000000\n",
       "max      300.000000"
      ]
     },
     "execution_count": 31,
     "metadata": {},
     "output_type": "execute_result"
    }
   ],
   "source": [
    "len1=pd.DataFrame(lst)\n",
    "len1.describe()"
   ]
  },
  {
   "cell_type": "code",
   "execution_count": 32,
   "metadata": {
    "id": "JBAgUQh-1cCn"
   },
   "outputs": [],
   "source": [
    "cts=[]\n",
    "for i in range(7,301):\n",
    "    ct=0\n",
    "    for k in lst:\n",
    "        if k==i:\n",
    "            ct+=1\n",
    "    cts.append(ct)"
   ]
  },
  {
   "cell_type": "markdown",
   "metadata": {
    "id": "dwTyJqGO4JM0"
   },
   "source": [
    "# Trying to fix a length for the embedding layers' input"
   ]
  },
  {
   "cell_type": "code",
   "execution_count": 33,
   "metadata": {
    "id": "UOYkt05D2Pkc",
    "outputId": "fbb734a9-cd62-4f8e-aeb6-cfba165e505e",
    "scrolled": true
   },
   "outputs": [
    {
     "data": {
      "image/png": "[encoded data removed]",
      "text/plain": [
       "<Figure size 432x288 with 1 Axes>"
      ]
     },
     "metadata": {
      "needs_background": "light"
     },
     "output_type": "display_data"
    }
   ],
   "source": [
    "plt.bar(range(7,301),cts)\n",
    "plt.show()"
   ]
  },
  {
   "cell_type": "markdown",
   "metadata": {
    "id": "Vkx0Skhw4RTE"
   },
   "source": [
    "# Using The tokenizer Class to convert the sentences into word vectors"
   ]
  },
  {
   "cell_type": "code",
   "execution_count": 34,
   "metadata": {
    "id": "HPqJjmc2Qd1q"
   },
   "outputs": [
    {
     "data": {
      "text/plain": [
       "'i didnt feel humiliated'"
      ]
     },
     "execution_count": 34,
     "metadata": {},
     "output_type": "execute_result"
    }
   ],
   "source": [
    "tokenizer=Tokenizer(15212,lower=True,oov_token='UNK')\n",
    "tokenizer.fit_on_texts(X)\n",
    "X[0]"
   ]
  },
  {
   "cell_type": "code",
   "execution_count": 35,
   "metadata": {
    "id": "QAR53xsMQ9hp",
    "outputId": "85afe77d-62ca-4db5-9030-985c63cccdf1"
   },
   "outputs": [
    {
     "data": {
      "text/plain": [
       "15252"
      ]
     },
     "execution_count": 35,
     "metadata": {},
     "output_type": "execute_result"
    }
   ],
   "source": [
    "len(tokenizer.word_index)"
   ]
  },
  {
   "cell_type": "code",
   "execution_count": 36,
   "metadata": {
    "id": "OPlKIuEJRHaJ"
   },
   "outputs": [
    {
     "name": "stdout",
     "output_type": "stream",
     "text": [
      "[2, 139, 3, 692]\n",
      "[  2 139   3 692   0   0   0   0   0   0   0   0   0   0   0   0   0   0\n",
      "   0   0   0   0   0   0   0   0   0   0   0   0   0   0   0   0   0   0\n",
      "   0   0   0   0   0   0   0   0   0   0   0   0   0   0   0   0   0   0\n",
      "   0   0   0   0   0   0   0   0   0   0   0   0   0   0   0   0   0   0\n",
      "   0   0   0   0   0   0   0   0]\n"
     ]
    }
   ],
   "source": [
    "X_train=tokenizer.texts_to_sequences(X)\n",
    "print(X_train[0])\n",
    "X_train_pad=pad_sequences(X_train,maxlen=80,padding='post')\n",
    "print(X_train_pad[0])"
   ]
  },
  {
   "cell_type": "code",
   "execution_count": 37,
   "metadata": {
    "id": "klWThk5xSiTj"
   },
   "outputs": [],
   "source": [
    "df_train['Sentiment']=df_train['Sentiment'].replace({'joy':0,'anger':1,'love':2,'sadness':3,'fear':4,'surprise':5})"
   ]
  },
  {
   "cell_type": "code",
   "execution_count": 38,
   "metadata": {
    "id": "IcB2LdpDTV1R"
   },
   "outputs": [],
   "source": [
    "Y_train=df_train['Sentiment'].values\n"
   ]
  },
  {
   "cell_type": "markdown",
   "metadata": {
    "id": "1Nxr63i-4eWH"
   },
   "source": [
    "# One hot Encoding the Emotion Values"
   ]
  },
  {
   "cell_type": "code",
   "execution_count": 39,
   "metadata": {
    "id": "Cq4bajBpWKnU"
   },
   "outputs": [],
   "source": [
    "Y_train_f=to_categorical(Y_train)"
   ]
  },
  {
   "cell_type": "code",
   "execution_count": 40,
   "metadata": {
    "id": "jM-qVgjjXHlb",
    "outputId": "598f6ccc-4000-49a8-b46e-34b06d0fdd53"
   },
   "outputs": [
    {
     "name": "stdout",
     "output_type": "stream",
     "text": [
      "[[   2  139    3 ...    0    0    0]\n",
      " [   2   40  101 ...    0    0    0]\n",
      " [  17 3060    7 ...    0    0    0]\n",
      " ...\n",
      " [   2    3  327 ...    0    0    0]\n",
      " [   2    3   14 ...    0    0    0]\n",
      " [   2   47    7 ...    0    0    0]] \n",
      "\n",
      " [[0. 0. 0. 1. 0. 0.]\n",
      " [0. 0. 0. 1. 0. 0.]\n",
      " [0. 1. 0. 0. 0. 0.]\n",
      " [0. 0. 1. 0. 0. 0.]\n",
      " [0. 1. 0. 0. 0. 0.]\n",
      " [0. 0. 0. 1. 0. 0.]]\n"
     ]
    }
   ],
   "source": [
    "print(X_train_pad,'\\n\\n',Y_train_f[:6])"
   ]
  },
  {
   "cell_type": "code",
   "execution_count": 41,
   "metadata": {
    "id": "PKJwSxEgYhay"
   },
   "outputs": [],
   "source": [
    "X_val=df_val['Input']\n",
    "X_val = [stemmer.stem(word.lower()) for word in X_val]\n",
    "Y_val=df_val.Sentiment.replace({'joy':0,'anger':1,'love':2,'sadness':3,'fear':4,'surprise':5})"
   ]
  },
  {
   "cell_type": "code",
   "execution_count": 42,
   "metadata": {
    "id": "v-5tPraZYYH6"
   },
   "outputs": [],
   "source": [
    "X_val_f=tokenizer.texts_to_sequences(X_val)\n",
    "X_val_pad=pad_sequences(X_val_f,maxlen=80,padding='post')"
   ]
  },
  {
   "cell_type": "code",
   "execution_count": 43,
   "metadata": {
    "id": "rLIVsrvgZLu_"
   },
   "outputs": [],
   "source": [
    "Y_val_f=to_categorical(Y_val)"
   ]
  },
  {
   "cell_type": "code",
   "execution_count": 44,
   "metadata": {
    "id": "zKw08DYYZLxl",
    "outputId": "914b33da-9bc8-463f-f87d-281ba533a2f8"
   },
   "outputs": [
    {
     "data": {
      "text/plain": [
       "array([[   2,  139,    3,  692,    0,    0,    0,    0,    0,    0,    0,\n",
       "           0,    0,    0,    0,    0,    0,    0,    0,    0,    0,    0,\n",
       "           0,    0,    0,    0,    0,    0,    0,    0,    0,    0,    0,\n",
       "           0,    0,    0,    0,    0,    0,    0,    0,    0,    0,    0,\n",
       "           0,    0,    0,    0,    0,    0,    0,    0,    0,    0,    0,\n",
       "           0,    0,    0,    0,    0,    0,    0,    0,    0,    0,    0,\n",
       "           0,    0,    0,    0,    0,    0,    0,    0,    0,    0,    0,\n",
       "           0,    0,    0],\n",
       "       [   2,   40,  101,   60,    8,   15,  493,    5,   15, 3496,  553,\n",
       "          32,   60,   61,  128,  148,   76, 1479,    4,   22, 1254,    0,\n",
       "           0,    0,    0,    0,    0,    0,    0,    0,    0,    0,    0,\n",
       "           0,    0,    0,    0,    0,    0,    0,    0,    0,    0,    0,\n",
       "           0,    0,    0,    0,    0,    0,    0,    0,    0,    0,    0,\n",
       "           0,    0,    0,    0,    0,    0,    0,    0,    0,    0,    0,\n",
       "           0,    0,    0,    0,    0,    0,    0,    0,    0,    0,    0,\n",
       "           0,    0,    0],\n",
       "       [  17, 3060,    7, 1150,    5,  286,    2,    3,  494,  438,    0,\n",
       "           0,    0,    0,    0,    0,    0,    0,    0,    0,    0,    0,\n",
       "           0,    0,    0,    0,    0,    0,    0,    0,    0,    0,    0,\n",
       "           0,    0,    0,    0,    0,    0,    0,    0,    0,    0,    0,\n",
       "           0,    0,    0,    0,    0,    0,    0,    0,    0,    0,    0,\n",
       "           0,    0,    0,    0,    0,    0,    0,    0,    0,    0,    0,\n",
       "           0,    0,    0,    0,    0,    0,    0,    0,    0,    0,    0,\n",
       "           0,    0,    0],\n",
       "       [   2,   24,  165,    8,  664,   27,    6, 4157,    2,   59,   47,\n",
       "           9,   13,   22,   72,   30,    6, 3497,    0,    0,    0,    0,\n",
       "           0,    0,    0,    0,    0,    0,    0,    0,    0,    0,    0,\n",
       "           0,    0,    0,    0,    0,    0,    0,    0,    0,    0,    0,\n",
       "           0,    0,    0,    0,    0,    0,    0,    0,    0,    0,    0,\n",
       "           0,    0,    0,    0,    0,    0,    0,    0,    0,    0,    0,\n",
       "           0,    0,    0,    0,    0,    0,    0,    0,    0,    0,    0,\n",
       "           0,    0,    0],\n",
       "       [   2,   24,    8, 1065,    0,    0,    0,    0,    0,    0,    0,\n",
       "           0,    0,    0,    0,    0,    0,    0,    0,    0,    0,    0,\n",
       "           0,    0,    0,    0,    0,    0,    0,    0,    0,    0,    0,\n",
       "           0,    0,    0,    0,    0,    0,    0,    0,    0,    0,    0,\n",
       "           0,    0,    0,    0,    0,    0,    0,    0,    0,    0,    0,\n",
       "           0,    0,    0,    0,    0,    0,    0,    0,    0,    0,    0,\n",
       "           0,    0,    0,    0,    0,    0,    0,    0,    0,    0,    0,\n",
       "           0,    0,    0],\n",
       "       [  73,   48,    8,    7,   56,  521,  319,  328,  158,  161,    9,\n",
       "          20,    0,    0,    0,    0,    0,    0,    0,    0,    0,    0,\n",
       "           0,    0,    0,    0,    0,    0,    0,    0,    0,    0,    0,\n",
       "           0,    0,    0,    0,    0,    0,    0,    0,    0,    0,    0,\n",
       "           0,    0,    0,    0,    0,    0,    0,    0,    0,    0,    0,\n",
       "           0,    0,    0,    0,    0,    0,    0,    0,    0,    0,    0,\n",
       "           0,    0,    0,    0,    0,    0,    0,    0,    0,    0,    0,\n",
       "           0,    0,    0]], dtype=int32)"
      ]
     },
     "execution_count": 44,
     "metadata": {},
     "output_type": "execute_result"
    }
   ],
   "source": [
    "X_train_pad[:6]"
   ]
  },
  {
   "cell_type": "code",
   "execution_count": 45,
   "metadata": {
    "id": "fTW2fLQZU8rx"
   },
   "outputs": [],
   "source": [
    "from keras.models import Sequential\n",
    "from keras.layers import LSTM,Bidirectional,Dense,Embedding,Dropout\n"
   ]
  },
  {
   "cell_type": "markdown",
   "metadata": {
    "id": "zzZgSic_4mb8"
   },
   "source": [
    "# Creating a Model"
   ]
  },
  {
   "cell_type": "code",
   "execution_count": 46,
   "metadata": {
    "id": "F_tdJHIDVLqA",
    "outputId": "7ae62ccd-8288-4e6b-b614-c8080cd51a2a",
    "scrolled": true
   },
   "outputs": [
    {
     "name": "stdout",
     "output_type": "stream",
     "text": [
      "Model: \"sequential_1\"\n",
      "_________________________________________________________________\n",
      "Layer (type)                 Output Shape              Param #   \n",
      "=================================================================\n",
      "embedding_1 (Embedding)      (None, 80, 64)            973568    \n",
      "_________________________________________________________________\n",
      "dropout_1 (Dropout)          (None, 80, 64)            0         \n",
      "_________________________________________________________________\n",
      "bidirectional_2 (Bidirection (None, 80, 160)           92800     \n",
      "_________________________________________________________________\n",
      "bidirectional_3 (Bidirection (None, 320)               410880    \n",
      "_________________________________________________________________\n",
      "dense_1 (Dense)              (None, 6)                 1926      \n",
      "=================================================================\n",
      "Total params: 1,479,174\n",
      "Trainable params: 1,479,174\n",
      "Non-trainable params: 0\n",
      "_________________________________________________________________\n",
      "None\n"
     ]
    }
   ],
   "source": [
    "model=Sequential()\n",
    "model.add(Embedding(15212,64,input_length=80))\n",
    "model.add(Dropout(0.6))\n",
    "model.add(Bidirectional(LSTM(80,return_sequences=True)))\n",
    "model.add(Bidirectional(LSTM(160)))\n",
    "model.add(Dense(6,activation='softmax'))\n",
    "print(model.summary())"
   ]
  },
  {
   "cell_type": "markdown",
   "metadata": {
    "id": "lQwbhHiO4rM7"
   },
   "source": [
    "# Compiling and running the model"
   ]
  },
  {
   "cell_type": "code",
   "execution_count": 47,
   "metadata": {
    "id": "_KYfMEyXVxK2"
   },
   "outputs": [],
   "source": [
    "model.compile(optimizer='adam',loss='categorical_crossentropy',metrics=['accuracy'])"
   ]
  },
  {
   "cell_type": "code",
   "execution_count": 48,
   "metadata": {},
   "outputs": [
    {
     "name": "stdout",
     "output_type": "stream",
     "text": [
      "[[   2  139    3 ...    0    0    0]\n",
      " [   2   40  101 ...    0    0    0]\n",
      " [  17 3060    7 ...    0    0    0]\n",
      " ...\n",
      " [   2    3  327 ...    0    0    0]\n",
      " [   2    3   14 ...    0    0    0]\n",
      " [   2   47    7 ...    0    0    0]] \n",
      "\n",
      " [[0. 0. 0. 1. 0. 0.]\n",
      " [0. 0. 0. 1. 0. 0.]\n",
      " [0. 1. 0. 0. 0. 0.]\n",
      " ...\n",
      " [1. 0. 0. 0. 0. 0.]\n",
      " [0. 1. 0. 0. 0. 0.]\n",
      " [0. 0. 0. 1. 0. 0.]]\n"
     ]
    }
   ],
   "source": [
    "print(X_train_pad,'\\n\\n',Y_train_f)"
   ]
  },
  {
   "cell_type": "code",
   "execution_count": 49,
   "metadata": {
    "id": "J5UxHV4EV_qA",
    "outputId": "c1760502-94ff-4f81-9ead-59ddddab1149"
   },
   "outputs": [
    {
     "name": "stdout",
     "output_type": "stream",
     "text": [
      "Epoch 1/12\n",
      "500/500 [==============================] - 95s 190ms/step - loss: 1.2143 - accuracy: 0.5168 - val_loss: 0.6414 - val_accuracy: 0.7635\n",
      "Epoch 2/12\n",
      "500/500 [==============================] - 83s 166ms/step - loss: 0.4994 - accuracy: 0.8202 - val_loss: 0.3306 - val_accuracy: 0.8940\n",
      "Epoch 3/12\n",
      "500/500 [==============================] - 83s 166ms/step - loss: 0.2886 - accuracy: 0.9021 - val_loss: 0.2225 - val_accuracy: 0.9185\n",
      "Epoch 4/12\n",
      "500/500 [==============================] - 86s 173ms/step - loss: 0.2040 - accuracy: 0.9259 - val_loss: 0.2097 - val_accuracy: 0.9210\n",
      "Epoch 5/12\n",
      "500/500 [==============================] - 86s 172ms/step - loss: 0.1674 - accuracy: 0.9384 - val_loss: 0.1927 - val_accuracy: 0.9295\n",
      "Epoch 6/12\n",
      "500/500 [==============================] - 98s 196ms/step - loss: 0.1403 - accuracy: 0.9456 - val_loss: 0.1789 - val_accuracy: 0.9230\n",
      "Epoch 7/12\n",
      "500/500 [==============================] - 93s 185ms/step - loss: 0.1101 - accuracy: 0.9574 - val_loss: 0.1877 - val_accuracy: 0.9295\n",
      "Epoch 8/12\n",
      "500/500 [==============================] - 92s 183ms/step - loss: 0.1020 - accuracy: 0.9606 - val_loss: 0.1877 - val_accuracy: 0.9255\n",
      "Epoch 9/12\n",
      "500/500 [==============================] - 87s 175ms/step - loss: 0.0841 - accuracy: 0.9665 - val_loss: 0.2062 - val_accuracy: 0.9315\n",
      "Epoch 10/12\n",
      "500/500 [==============================] - 88s 175ms/step - loss: 0.0784 - accuracy: 0.9695 - val_loss: 0.1879 - val_accuracy: 0.9305\n",
      "Epoch 11/12\n",
      "500/500 [==============================] - 87s 174ms/step - loss: 0.0661 - accuracy: 0.9728 - val_loss: 0.2059 - val_accuracy: 0.9285\n",
      "Epoch 12/12\n",
      "500/500 [==============================] - 93s 186ms/step - loss: 0.0627 - accuracy: 0.9747 - val_loss: 0.2205 - val_accuracy: 0.9300\n"
     ]
    }
   ],
   "source": [
    "hist=model.fit(X_train_pad,Y_train_f,epochs=12,validation_data=(X_val_pad,Y_val_f))"
   ]
  },
  {
   "cell_type": "markdown",
   "metadata": {},
   "source": [
    "# Plotting the Loss and Accuracy Curves"
   ]
  },
  {
   "cell_type": "code",
   "execution_count": 50,
   "metadata": {
    "id": "r9ZX9npB95PY",
    "outputId": "9e3a5747-bc0e-4063-8ae5-6d047d6b94b6"
   },
   "outputs": [
    {
     "data": {
      "image/png": "[encoded data removed]",
      "text/plain": [
       "<Figure size 432x288 with 1 Axes>"
      ]
     },
     "metadata": {
      "needs_background": "light"
     },
     "output_type": "display_data"
    }
   ],
   "source": [
    "plt.plot(hist.history['accuracy'],c='b',label='train')\n",
    "plt.plot(hist.history['val_accuracy'],c='r',label='validation')\n",
    "plt.legend(loc='lower right')\n",
    "plt.show()"
   ]
  },
  {
   "cell_type": "code",
   "execution_count": 51,
   "metadata": {
    "id": "DPXjVCJe-dLM",
    "outputId": "f520d1fa-d97f-4c03-f4da-1ef837a0f8d1"
   },
   "outputs": [
    {
     "data": {
      "image/png": "[encoded data removed]",
      "text/plain": [
       "<Figure size 432x288 with 1 Axes>"
      ]
     },
     "metadata": {
      "needs_background": "light"
     },
     "output_type": "display_data"
    }
   ],
   "source": [
    "plt.plot(hist.history['loss'],c='orange',label='train')\n",
    "plt.plot(hist.history['val_loss'],c='g',label='validation')\n",
    "plt.legend(loc='upper right')\n",
    "plt.show()"
   ]
  },
  {
   "cell_type": "markdown",
   "metadata": {
    "id": "T8wkWWRM4wj5"
   },
   "source": [
    "# Checking for Test Data"
   ]
  },
  {
   "cell_type": "code",
   "execution_count": 52,
   "metadata": {
    "id": "qiqCoFvpWFlI"
   },
   "outputs": [],
   "source": [
    "X_test=df_test['Input']\n",
    "X_test = [stemmer.stem(word.lower()) for word in X_test]\n",
    "Y_test=df_test.Sentiment.replace({'joy':0,'anger':1,'love':2,'sadness':3,'fear':4,'surprise':5})"
   ]
  },
  {
   "cell_type": "code",
   "execution_count": 53,
   "metadata": {
    "id": "a_puRzZNaI_i"
   },
   "outputs": [],
   "source": [
    "X_test_f=tokenizer.texts_to_sequences(X_test)\n",
    "X_test_pad=pad_sequences(X_test_f,maxlen=80,padding='post')"
   ]
  },
  {
   "cell_type": "code",
   "execution_count": 54,
   "metadata": {
    "id": "ZWeCFXqBaUeF"
   },
   "outputs": [],
   "source": [
    "Y_test_f=to_categorical(Y_test)"
   ]
  },
  {
   "cell_type": "code",
   "execution_count": 55,
   "metadata": {
    "id": "iVhdSBnWcV3q",
    "outputId": "0aaf8ab6-ba10-4816-94be-fdddaeeb2eda"
   },
   "outputs": [
    {
     "data": {
      "text/plain": [
       "(2000, 80)"
      ]
     },
     "execution_count": 55,
     "metadata": {},
     "output_type": "execute_result"
    }
   ],
   "source": [
    "X_test_pad.shape"
   ]
  },
  {
   "cell_type": "code",
   "execution_count": 56,
   "metadata": {
    "id": "K2gXQ80oaaok",
    "outputId": "747bf3f0-3126-4ea2-b730-a832de1447ff",
    "scrolled": true
   },
   "outputs": [
    {
     "data": {
      "text/plain": [
       "array([[0., 0., 0., 1., 0., 0.],\n",
       "       [0., 0., 0., 1., 0., 0.],\n",
       "       [0., 0., 0., 1., 0., 0.],\n",
       "       [1., 0., 0., 0., 0., 0.],\n",
       "       [0., 0., 0., 1., 0., 0.],\n",
       "       [0., 0., 0., 0., 1., 0.],\n",
       "       [0., 1., 0., 0., 0., 0.]], dtype=float32)"
      ]
     },
     "execution_count": 56,
     "metadata": {},
     "output_type": "execute_result"
    }
   ],
   "source": [
    "Y_test_f[:7]"
   ]
  },
  {
   "cell_type": "markdown",
   "metadata": {
    "id": "KI2H_6jh444s"
   },
   "source": [
    "#Accuracy for Test Data"
   ]
  },
  {
   "cell_type": "code",
   "execution_count": 57,
   "metadata": {
    "id": "PWY-3GJSacff",
    "outputId": "b28b942e-d800-4469-cc29-fbdbfedfb1e9"
   },
   "outputs": [
    {
     "name": "stdout",
     "output_type": "stream",
     "text": [
      "63/63 [==============================] - 3s 45ms/step - loss: 0.2053 - accuracy: 0.9280\n"
     ]
    },
    {
     "data": {
      "text/plain": [
       "[0.20533455908298492, 0.9279999732971191]"
      ]
     },
     "execution_count": 57,
     "metadata": {},
     "output_type": "execute_result"
    }
   ],
   "source": [
    "model.evaluate(X_test_pad,Y_test_f)"
   ]
  },
  {
   "cell_type": "markdown",
   "metadata": {
    "id": "eDUBbS9dCnqc"
   },
   "source": [
    "# Plotting the Confusion matrix "
   ]
  },
  {
   "cell_type": "code",
   "execution_count": 58,
   "metadata": {
    "id": "xSBIEISGA6Id"
   },
   "outputs": [
    {
     "name": "stdout",
     "output_type": "stream",
     "text": [
      "WARNING:tensorflow:From <ipython-input-58-27fd0e2dbed9>:1: Sequential.predict_classes (from tensorflow.python.keras.engine.sequential) is deprecated and will be removed after 2021-01-01.\n",
      "Instructions for updating:\n",
      "Please use instead:* `np.argmax(model.predict(x), axis=-1)`,   if your model does multi-class classification   (e.g. if it uses a `softmax` last-layer activation).* `(model.predict(x) > 0.5).astype(\"int32\")`,   if your model does binary classification   (e.g. if it uses a `sigmoid` last-layer activation).\n"
     ]
    }
   ],
   "source": [
    "Y_pred=model.predict_classes(X_test_pad)"
   ]
  },
  {
   "cell_type": "code",
   "execution_count": 59,
   "metadata": {
    "id": "atULoe4HAqZv",
    "outputId": "d949ea61-ebe5-4f7a-f804-9676542f4cf5"
   },
   "outputs": [
    {
     "data": {
      "text/plain": [
       "<AxesSubplot:title={'center':'Confusion Matrix'}, xlabel='Predicted label', ylabel='True label'>"
      ]
     },
     "execution_count": 59,
     "metadata": {},
     "output_type": "execute_result"
    },
    {
     "data": {
      "image/png": "[encoded data removed]",
      "text/plain": [
       "<Figure size 432x288 with 2 Axes>"
      ]
     },
     "metadata": {
      "needs_background": "light"
     },
     "output_type": "display_data"
    }
   ],
   "source": [
    "plot_confusion_matrix(Y_test,Y_pred)"
   ]
  },
  {
   "cell_type": "code",
   "execution_count": 60,
   "metadata": {
    "id": "GebauRAfChiq",
    "outputId": "b66eb181-8ce9-44ea-b7f7-88ffe6027a2c"
   },
   "outputs": [
    {
     "name": "stdout",
     "output_type": "stream",
     "text": [
      "              precision    recall  f1-score   support\n",
      "\n",
      "           0       0.95      0.94      0.95       695\n",
      "           1       0.94      0.92      0.93       275\n",
      "           2       0.81      0.86      0.83       159\n",
      "           3       0.95      0.98      0.97       581\n",
      "           4       0.90      0.89      0.90       224\n",
      "           5       0.77      0.71      0.74        66\n",
      "\n",
      "    accuracy                           0.93      2000\n",
      "   macro avg       0.89      0.88      0.88      2000\n",
      "weighted avg       0.93      0.93      0.93      2000\n",
      "\n"
     ]
    }
   ],
   "source": [
    "print(classification_report(Y_test,Y_pred))"
   ]
  },
  {
   "cell_type": "markdown",
   "metadata": {
    "id": "5SG8AtHq48uQ"
   },
   "source": [
    "# Creating a Function to check for Your own Sentence"
   ]
  },
  {
   "cell_type": "code",
   "execution_count": 61,
   "metadata": {
    "id": "N4vDT3Eeft2i"
   },
   "outputs": [],
   "source": [
    "def get_key(value):\n",
    "    dictionary={'joy':0,'anger':1,'love':2,'sadness':3,'fear':4,'surprise':5}\n",
    "    for key,val in dictionary.items():\n",
    "          if (val==value):\n",
    "            return key\n",
    "\n"
   ]
  },
  {
   "cell_type": "code",
   "execution_count": 68,
   "metadata": {
    "id": "AQuJATahalLP"
   },
   "outputs": [],
   "source": [
    "def predict(sentence):\n",
    "    sentence_lst=[]\n",
    "    sentence_lst.append(sentence)\n",
    "    sentence_seq=tokenizer.texts_to_sequences(sentence_lst)\n",
    "    print(sentence_seq)\n",
    "    sentence_padded=pad_sequences(sentence_seq,maxlen=80,padding='post')\n",
    "    ans=get_key(model.predict_classes(sentence_padded))\n",
    "    print(\"The emotion predicted is\",ans)"
   ]
  },
  {
   "cell_type": "code",
   "execution_count": 63,
   "metadata": {
    "scrolled": true
   },
   "outputs": [
    {
     "name": "stdout",
     "output_type": "stream",
     "text": [
      "The emotion predicted is anger\n",
      "[[ 207   13   28 1019    0    0    0    0    0    0    0    0    0    0\n",
      "     0    0    0    0    0    0    0    0    0    0    0    0    0    0\n",
      "     0    0    0    0    0    0    0    0    0    0    0    0    0    0\n",
      "     0    0    0    0    0    0    0    0    0    0    0    0    0    0\n",
      "     0    0    0    0    0    0    0    0    0    0    0    0    0    0\n",
      "     0    0    0    0    0    0    0    0    0    0]]\n"
     ]
    }
   ],
   "source": [
    "sentence = 'let it be hell'\n",
    "sentence_lst=[]\n",
    "sentence_lst.append(sentence)\n",
    "sentence_seq=tokenizer.texts_to_sequences(sentence_lst)\n",
    "sentence_padded=pad_sequences(sentence_seq,maxlen=80,padding='post')\n",
    "ans=get_key(model.predict_classes(sentence_padded))\n",
    "print(\"The emotion predicted is\",ans)\n",
    "print(sentence_padded)"
   ]
  },
  {
   "cell_type": "markdown",
   "metadata": {
    "id": "J1_JYp1N5CFm"
   },
   "source": [
    "# Check for Your Own Sentence"
   ]
  },
  {
   "cell_type": "code",
   "execution_count": 69,
   "metadata": {
    "id": "VcTTjsficgqf",
    "outputId": "3e5e5d52-08eb-4c7c-b092-22b437bfe787"
   },
   "outputs": [
    {
     "name": "stdout",
     "output_type": "stream",
     "text": [
      "Enter a sentence : haiaiaud\n",
      "[[1]]\n",
      "The emotion predicted is anger\n"
     ]
    }
   ],
   "source": [
    "predict(str(input('Enter a sentence : ')))\n"
   ]
  },
  {
   "cell_type": "code",
   "execution_count": 65,
   "metadata": {
    "id": "_hiYzFqN_h_-",
    "outputId": "3f96cb05-e759-48d8-eba8-94f7d1ed84b3"
   },
   "outputs": [
    {
     "name": "stdout",
     "output_type": "stream",
     "text": [
      "Enter a sentence : this world is beautiful\n",
      "The emotion predicted is joy\n"
     ]
    }
   ],
   "source": [
    "predict(str(input('Enter a sentence : ')))\n"
   ]
  },
  {
   "cell_type": "code",
   "execution_count": 66,
   "metadata": {},
   "outputs": [
    {
     "name": "stdout",
     "output_type": "stream",
     "text": [
      "Enter a sentence : life is a war\n",
      "The emotion predicted is joy\n"
     ]
    }
   ],
   "source": [
    "predict(str(input('Enter a sentence : ')))\n"
   ]
  },
  {
   "cell_type": "code",
   "execution_count": 74,
   "metadata": {},
   "outputs": [],
   "source": [
    "import pickle\n",
    "model.save('emotion_LSTM.h5',model)\n",
    "pickle.dump( {'train_x':X, 'train_y':Y_train_f}, open( \"mood_learning.pkl\", \"wb\" ) )"
   ]
  }
 ],
 "metadata": {
  "kernelspec": {
   "display_name": "Python 3",
   "language": "python",
   "name": "python3"
  },
  "language_info": {
   "codemirror_mode": {
    "name": "ipython",
    "version": 3
   },
   "file_extension": ".py",
   "mimetype": "text/x-python",
   "name": "python",
   "nbconvert_exporter": "python",
   "pygments_lexer": "ipython3",
   "version": "3.8.5"
  }
 },
 "nbformat": 4,
 "nbformat_minor": 4
}
