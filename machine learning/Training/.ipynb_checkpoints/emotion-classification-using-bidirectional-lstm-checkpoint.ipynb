{
 "cells": [
  {
   "cell_type": "code",
   "execution_count": 15,
   "metadata": {
    "id": "G7rHKL0KNteY"
   },
   "outputs": [],
   "source": [
    "import numpy as np\n",
    "import keras\n",
    "from  keras.preprocessing.text import Tokenizer\n",
    "from keras.preprocessing.sequence import pad_sequences\n",
    "import os\n",
    "import pandas as pd\n",
    "from keras.utils import to_categorical\n",
    "import matplotlib.pyplot as plt\n",
    "from sklearn.metrics import classification_report\n",
    "import scikitplot\n",
    "from scikitplot.metrics import plot_confusion_matrix\n",
    "from nltk.stem.lancaster import LancasterStemmer\n",
    "stemmer = LancasterStemmer()\n",
    "import nltk\n",
    "from keras.models import Sequential\n",
    "from keras.layers import LSTM,Bidirectional,Dense,Embedding,Dropout"
   ]
  },
  {
   "cell_type": "code",
   "execution_count": 16,
   "metadata": {
    "id": "uVI0V45VPqkH"
   },
   "outputs": [],
   "source": [
    "df_train = pd.read_csv('data/train.txt', header =None, names = ['Input','Sentiment'], encoding='utf-8')\n",
    "df_test = pd.read_csv('data/test.txt', header = None, names = ['Input','Sentiment'],encoding='utf-8')\n",
    "df_val=pd.read_csv('data/val.txt',header=None,names=['Input','Sentiment'],encoding='utf-8')"
   ]
  },
  {
   "cell_type": "code",
   "execution_count": 17,
   "metadata": {
    "id": "t5UXwqnoOkGV",
    "outputId": "2714606a-f695-45ff-c0d9-1d7234d37a6f"
   },
   "outputs": [
    {
     "data": {
      "text/plain": [
       "joy         5362\n",
       "sadness     4666\n",
       "anger       2159\n",
       "fear        1937\n",
       "love        1304\n",
       "surprise     572\n",
       "Name: Sentiment, dtype: int64"
      ]
     },
     "execution_count": 17,
     "metadata": {},
     "output_type": "execute_result"
    }
   ],
   "source": [
    "df_train.Sentiment.value_counts()"
   ]
  },
  {
   "cell_type": "code",
   "execution_count": 18,
   "metadata": {
    "id": "8jfpnq0qPEUF"
   },
   "outputs": [],
   "source": [
    "X=df_train['Input']\n",
    "X = [stemmer.stem(word.lower()) for word in X]"
   ]
  },
  {
   "cell_type": "code",
   "execution_count": 19,
   "metadata": {
    "id": "YsdBhABuRkc2"
   },
   "outputs": [],
   "source": [
    "lst=[]\n",
    "for i in X:\n",
    "    lst.append(len(i))\n"
   ]
  },
  {
   "cell_type": "code",
   "execution_count": 20,
   "metadata": {
    "id": "JBAgUQh-1cCn"
   },
   "outputs": [],
   "source": [
    "cts=[]\n",
    "for i in range(7,301):\n",
    "    ct=0\n",
    "    for k in lst:\n",
    "        if k==i:\n",
    "            ct+=1\n",
    "    cts.append(ct)"
   ]
  },
  {
   "cell_type": "code",
   "execution_count": 21,
   "metadata": {
    "id": "HPqJjmc2Qd1q"
   },
   "outputs": [],
   "source": [
    "tokenizer=Tokenizer(15212,lower=True,oov_token='UNK')\n",
    "tokenizer.fit_on_texts(X)"
   ]
  },
  {
   "cell_type": "code",
   "execution_count": 22,
   "metadata": {
    "id": "QAR53xsMQ9hp",
    "outputId": "85afe77d-62ca-4db5-9030-985c63cccdf1"
   },
   "outputs": [
    {
     "data": {
      "text/plain": [
       "15252"
      ]
     },
     "execution_count": 22,
     "metadata": {},
     "output_type": "execute_result"
    }
   ],
   "source": [
    "len(tokenizer.word_index)"
   ]
  },
  {
   "cell_type": "code",
   "execution_count": 23,
   "metadata": {
    "id": "OPlKIuEJRHaJ"
   },
   "outputs": [],
   "source": [
    "X_train=tokenizer.texts_to_sequences(X)\n",
    "X_train_pad=pad_sequences(X_train,maxlen=80,padding='post')"
   ]
  },
  {
   "cell_type": "code",
   "execution_count": 24,
   "metadata": {
    "id": "klWThk5xSiTj"
   },
   "outputs": [],
   "source": [
    "df_train['Sentiment']=df_train['Sentiment'].replace({'joy':0,'anger':1,'love':2,'sadness':3,'fear':4,'surprise':5})"
   ]
  },
  {
   "cell_type": "code",
   "execution_count": 25,
   "metadata": {
    "id": "IcB2LdpDTV1R"
   },
   "outputs": [],
   "source": [
    "Y_train=df_train['Sentiment'].values\n",
    "Y_train_f=to_categorical(Y_train)"
   ]
  },
  {
   "cell_type": "code",
   "execution_count": 26,
   "metadata": {
    "id": "PKJwSxEgYhay"
   },
   "outputs": [],
   "source": [
    "X_val=df_val['Input']\n",
    "X_val = [stemmer.stem(word.lower()) for word in X_val]\n",
    "Y_val=df_val.Sentiment.replace({'joy':0,'anger':1,'love':2,'sadness':3,'fear':4,'surprise':5})"
   ]
  },
  {
   "cell_type": "code",
   "execution_count": 27,
   "metadata": {
    "id": "v-5tPraZYYH6"
   },
   "outputs": [],
   "source": [
    "X_val_f=tokenizer.texts_to_sequences(X_val)\n",
    "X_val_pad=pad_sequences(X_val_f,maxlen=80,padding='post')"
   ]
  },
  {
   "cell_type": "code",
   "execution_count": 28,
   "metadata": {
    "id": "rLIVsrvgZLu_"
   },
   "outputs": [],
   "source": [
    "Y_val_f=to_categorical(Y_val)"
   ]
  },
  {
   "cell_type": "code",
   "execution_count": 29,
   "metadata": {
    "id": "F_tdJHIDVLqA",
    "outputId": "7ae62ccd-8288-4e6b-b614-c8080cd51a2a",
    "scrolled": true
   },
   "outputs": [
    {
     "name": "stdout",
     "output_type": "stream",
     "text": [
      "Model: \"sequential\"\n",
      "_________________________________________________________________\n",
      "Layer (type)                 Output Shape              Param #   \n",
      "=================================================================\n",
      "embedding (Embedding)        (None, 80, 64)            973568    \n",
      "_________________________________________________________________\n",
      "dropout (Dropout)            (None, 80, 64)            0         \n",
      "_________________________________________________________________\n",
      "bidirectional (Bidirectional (None, 80, 160)           92800     \n",
      "_________________________________________________________________\n",
      "bidirectional_1 (Bidirection (None, 320)               410880    \n",
      "_________________________________________________________________\n",
      "dense (Dense)                (None, 6)                 1926      \n",
      "=================================================================\n",
      "Total params: 1,479,174\n",
      "Trainable params: 1,479,174\n",
      "Non-trainable params: 0\n",
      "_________________________________________________________________\n",
      "None\n"
     ]
    }
   ],
   "source": [
    "model=Sequential()\n",
    "model.add(Embedding(15212,64,input_length=80))\n",
    "model.add(Dropout(0.6))\n",
    "model.add(Bidirectional(LSTM(80,return_sequences=True)))\n",
    "model.add(Bidirectional(LSTM(160)))\n",
    "model.add(Dense(6,activation='softmax'))\n",
    "print(model.summary())"
   ]
  },
  {
   "cell_type": "markdown",
   "metadata": {
    "id": "lQwbhHiO4rM7"
   },
   "source": [
    "# Compiling and running the model"
   ]
  },
  {
   "cell_type": "code",
   "execution_count": 30,
   "metadata": {
    "id": "_KYfMEyXVxK2"
   },
   "outputs": [],
   "source": [
    "model.compile(optimizer='adam',loss='categorical_crossentropy',metrics=['accuracy'])"
   ]
  },
  {
   "cell_type": "code",
   "execution_count": 31,
   "metadata": {
    "id": "J5UxHV4EV_qA",
    "outputId": "c1760502-94ff-4f81-9ead-59ddddab1149"
   },
   "outputs": [
    {
     "name": "stdout",
     "output_type": "stream",
     "text": [
      "Epoch 1/12\n",
      "500/500 [==============================] - 99s 198ms/step - loss: 1.2158 - accuracy: 0.5316 - val_loss: 0.5724 - val_accuracy: 0.8160\n",
      "Epoch 2/12\n",
      "500/500 [==============================] - 113s 226ms/step - loss: 0.4394 - accuracy: 0.8468 - val_loss: 0.3221 - val_accuracy: 0.8900\n",
      "Epoch 3/12\n",
      "500/500 [==============================] - 114s 229ms/step - loss: 0.2579 - accuracy: 0.9084 - val_loss: 0.2290 - val_accuracy: 0.9090\n",
      "Epoch 4/12\n",
      "500/500 [==============================] - 120s 240ms/step - loss: 0.1896 - accuracy: 0.9307 - val_loss: 0.2288 - val_accuracy: 0.9160\n",
      "Epoch 5/12\n",
      "500/500 [==============================] - 125s 250ms/step - loss: 0.1686 - accuracy: 0.9392 - val_loss: 0.1887 - val_accuracy: 0.9245\n",
      "Epoch 6/12\n",
      "500/500 [==============================] - 132s 264ms/step - loss: 0.1361 - accuracy: 0.9503 - val_loss: 0.1906 - val_accuracy: 0.9185\n",
      "Epoch 7/12\n",
      "500/500 [==============================] - 133s 265ms/step - loss: 0.1163 - accuracy: 0.9565 - val_loss: 0.2169 - val_accuracy: 0.9245\n",
      "Epoch 8/12\n",
      "500/500 [==============================] - 132s 265ms/step - loss: 0.1069 - accuracy: 0.9586 - val_loss: 0.2212 - val_accuracy: 0.9200\n",
      "Epoch 9/12\n",
      "500/500 [==============================] - 136s 273ms/step - loss: 0.0879 - accuracy: 0.9658 - val_loss: 0.2063 - val_accuracy: 0.9300\n",
      "Epoch 10/12\n",
      "500/500 [==============================] - 132s 265ms/step - loss: 0.0818 - accuracy: 0.9686 - val_loss: 0.2276 - val_accuracy: 0.9245\n",
      "Epoch 11/12\n",
      "500/500 [==============================] - 134s 268ms/step - loss: 0.0767 - accuracy: 0.9695 - val_loss: 0.2138 - val_accuracy: 0.9255\n",
      "Epoch 12/12\n",
      "500/500 [==============================] - 129s 257ms/step - loss: 0.0679 - accuracy: 0.9728 - val_loss: 0.2070 - val_accuracy: 0.9295\n"
     ]
    }
   ],
   "source": [
    "hist=model.fit(X_train_pad,Y_train_f,epochs=12,validation_data=(X_val_pad,Y_val_f))"
   ]
  },
  {
   "cell_type": "markdown",
   "metadata": {},
   "source": [
    "# Plotting the Loss and Accuracy Curves"
   ]
  },
  {
   "cell_type": "code",
   "execution_count": 32,
   "metadata": {
    "id": "r9ZX9npB95PY",
    "outputId": "9e3a5747-bc0e-4063-8ae5-6d047d6b94b6"
   },
   "outputs": [
    {
     "data": {
      "image/png": "[encoded data removed]",
      "text/plain": [
       "<Figure size 432x288 with 1 Axes>"
      ]
     },
     "metadata": {
      "needs_background": "light"
     },
     "output_type": "display_data"
    }
   ],
   "source": [
    "plt.plot(hist.history['accuracy'],c='b',label='train')\n",
    "plt.plot(hist.history['val_accuracy'],c='r',label='validation')\n",
    "plt.legend(loc='lower right')\n",
    "plt.show()"
   ]
  },
  {
   "cell_type": "code",
   "execution_count": 33,
   "metadata": {
    "id": "DPXjVCJe-dLM",
    "outputId": "f520d1fa-d97f-4c03-f4da-1ef837a0f8d1"
   },
   "outputs": [
    {
     "data": {
      "image/png": "[encoded data removed]",
      "text/plain": [
       "<Figure size 432x288 with 1 Axes>"
      ]
     },
     "metadata": {
      "needs_background": "light"
     },
     "output_type": "display_data"
    }
   ],
   "source": [
    "plt.plot(hist.history['loss'],c='orange',label='train')\n",
    "plt.plot(hist.history['val_loss'],c='g',label='validation')\n",
    "plt.legend(loc='upper right')\n",
    "plt.show()"
   ]
  },
  {
   "cell_type": "code",
   "execution_count": 34,
   "metadata": {
    "id": "qiqCoFvpWFlI"
   },
   "outputs": [],
   "source": [
    "X_test=df_test['Input']\n",
    "X_test = [stemmer.stem(word.lower()) for word in X_test]\n",
    "Y_test=df_test.Sentiment.replace({'joy':0,'anger':1,'love':2,'sadness':3,'fear':4,'surprise':5})"
   ]
  },
  {
   "cell_type": "code",
   "execution_count": 35,
   "metadata": {
    "id": "a_puRzZNaI_i"
   },
   "outputs": [],
   "source": [
    "X_test_f=tokenizer.texts_to_sequences(X_test)\n",
    "X_test_pad=pad_sequences(X_test_f,maxlen=80,padding='post')"
   ]
  },
  {
   "cell_type": "code",
   "execution_count": 36,
   "metadata": {
    "id": "ZWeCFXqBaUeF"
   },
   "outputs": [],
   "source": [
    "Y_test_f=to_categorical(Y_test)"
   ]
  },
  {
   "cell_type": "code",
   "execution_count": 37,
   "metadata": {
    "id": "PWY-3GJSacff",
    "outputId": "b28b942e-d800-4469-cc29-fbdbfedfb1e9",
    "scrolled": true
   },
   "outputs": [
    {
     "name": "stdout",
     "output_type": "stream",
     "text": [
      "63/63 [==============================] - 6s 89ms/step - loss: 0.2062 - accuracy: 0.9245\n"
     ]
    },
    {
     "data": {
      "text/plain": [
       "[0.2061871588230133, 0.9244999885559082]"
      ]
     },
     "execution_count": 37,
     "metadata": {},
     "output_type": "execute_result"
    }
   ],
   "source": [
    "model.evaluate(X_test_pad,Y_test_f)"
   ]
  },
  {
   "cell_type": "code",
   "execution_count": 38,
   "metadata": {
    "id": "xSBIEISGA6Id"
   },
   "outputs": [
    {
     "name": "stdout",
     "output_type": "stream",
     "text": [
      "WARNING:tensorflow:From <ipython-input-38-27fd0e2dbed9>:1: Sequential.predict_classes (from tensorflow.python.keras.engine.sequential) is deprecated and will be removed after 2021-01-01.\n",
      "Instructions for updating:\n",
      "Please use instead:* `np.argmax(model.predict(x), axis=-1)`,   if your model does multi-class classification   (e.g. if it uses a `softmax` last-layer activation).* `(model.predict(x) > 0.5).astype(\"int32\")`,   if your model does binary classification   (e.g. if it uses a `sigmoid` last-layer activation).\n"
     ]
    }
   ],
   "source": [
    "Y_pred=model.predict_classes(X_test_pad)"
   ]
  },
  {
   "cell_type": "code",
   "execution_count": 39,
   "metadata": {
    "id": "atULoe4HAqZv",
    "outputId": "d949ea61-ebe5-4f7a-f804-9676542f4cf5"
   },
   "outputs": [
    {
     "data": {
      "text/plain": [
       "<AxesSubplot:title={'center':'Confusion Matrix'}, xlabel='Predicted label', ylabel='True label'>"
      ]
     },
     "execution_count": 39,
     "metadata": {},
     "output_type": "execute_result"
    },
    {
     "data": {
      "image/png": "[encoded data removed]",
      "text/plain": [
       "<Figure size 432x288 with 2 Axes>"
      ]
     },
     "metadata": {
      "needs_background": "light"
     },
     "output_type": "display_data"
    }
   ],
   "source": [
    "plot_confusion_matrix(Y_test,Y_pred)"
   ]
  },
  {
   "cell_type": "code",
   "execution_count": 40,
   "metadata": {
    "id": "GebauRAfChiq",
    "outputId": "b66eb181-8ce9-44ea-b7f7-88ffe6027a2c"
   },
   "outputs": [
    {
     "name": "stdout",
     "output_type": "stream",
     "text": [
      "              precision    recall  f1-score   support\n",
      "\n",
      "           0       0.93      0.95      0.94       695\n",
      "           1       0.96      0.91      0.93       275\n",
      "           2       0.83      0.74      0.78       159\n",
      "           3       0.96      0.98      0.97       581\n",
      "           4       0.85      0.94      0.89       224\n",
      "           5       0.91      0.62      0.74        66\n",
      "\n",
      "    accuracy                           0.92      2000\n",
      "   macro avg       0.91      0.86      0.88      2000\n",
      "weighted avg       0.92      0.92      0.92      2000\n",
      "\n"
     ]
    }
   ],
   "source": [
    "print(classification_report(Y_test,Y_pred))"
   ]
  },
  {
   "cell_type": "code",
   "execution_count": 41,
   "metadata": {
    "id": "N4vDT3Eeft2i"
   },
   "outputs": [],
   "source": [
    "def get_key(value):\n",
    "    dictionary={'joy':0,'anger':1,'love':2,'sadness':3,'fear':4,'surprise':5}\n",
    "    for key,val in dictionary.items():\n",
    "          if (val==value):\n",
    "            return key\n",
    "\n"
   ]
  },
  {
   "cell_type": "code",
   "execution_count": 42,
   "metadata": {
    "id": "AQuJATahalLP"
   },
   "outputs": [],
   "source": [
    "def predict(sentence):\n",
    "    sentence_lst=[]\n",
    "    sentence_lst.append(sentence)\n",
    "    sentence_seq=tokenizer.texts_to_sequences(sentence_lst)\n",
    "    print(sentence_seq)\n",
    "    sentence_padded=pad_sequences(sentence_seq,maxlen=80,padding='post')\n",
    "    ans=get_key(model.predict_classes(sentence_padded))\n",
    "    print(\"The emotion predicted is\",ans)"
   ]
  },
  {
   "cell_type": "code",
   "execution_count": 43,
   "metadata": {},
   "outputs": [
    {
     "name": "stdout",
     "output_type": "stream",
     "text": [
      "Enter a sentence : hello world\n",
      "[[2969, 184]]\n",
      "The emotion predicted is sadness\n"
     ]
    }
   ],
   "source": [
    "predict(str(input('Enter a sentence : ')))\n"
   ]
  },
  {
   "cell_type": "code",
   "execution_count": 44,
   "metadata": {},
   "outputs": [],
   "source": [
    "import pickle\n",
    "model.save('emotion_LSTM.h5',model)\n",
    "pickle.dump( {'train_x':X, 'train_y':Y_train_f}, open( \"mood_learning.pkl\", \"wb\" ) )"
   ]
  }
 ],
 "metadata": {
  "kernelspec": {
   "display_name": "Python 3",
   "language": "python",
   "name": "python3"
  },
  "language_info": {
   "codemirror_mode": {
    "name": "ipython",
    "version": 3
   },
   "file_extension": ".py",
   "mimetype": "text/x-python",
   "name": "python",
   "nbconvert_exporter": "python",
   "pygments_lexer": "ipython3",
   "version": "3.8.5"
  }
 },
 "nbformat": 4,
 "nbformat_minor": 4
}
